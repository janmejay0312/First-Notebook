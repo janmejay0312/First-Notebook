{
  "metadata": {
    "language_info": {
      "codemirror_mode": {
        "name": "python",
        "version": 3
      },
      "file_extension": ".py",
      "mimetype": "text/x-python",
      "name": "python",
      "nbconvert_exporter": "python",
      "pygments_lexer": "ipython3",
      "version": "3.8"
    },
    "kernelspec": {
      "name": "python",
      "display_name": "Pyolite",
      "language": "python"
    }
  },
  "nbformat_minor": 4,
  "nbformat": 4,
  "cells": [
    {
      "cell_type": "markdown",
      "source": "# My Jupyter Notebook on IBM Watson Studio",
      "metadata": {}
    },
    {
      "cell_type": "markdown",
      "source": "**Janmejay Singh** <br>\nStudent",
      "metadata": {}
    },
    {
      "cell_type": "markdown",
      "source": "*I am Interested in data science because I like working on data and getting a some useful information out of it.*",
      "metadata": {}
    },
    {
      "cell_type": "markdown",
      "source": "#### I will add 4 and 5 in next cell. It will produce 9 as the result",
      "metadata": {}
    },
    {
      "cell_type": "code",
      "source": "4+5",
      "metadata": {
        "trusted": true
      },
      "execution_count": 4,
      "outputs": [
        {
          "execution_count": 4,
          "output_type": "execute_result",
          "data": {
            "text/plain": "9"
          },
          "metadata": {}
        }
      ]
    },
    {
      "cell_type": "markdown",
      "source": "##### Horizontal Rule\n***\n\nThis is my First Notebook.\n\n***",
      "metadata": {}
    },
    {
      "cell_type": "markdown",
      "source": "##### Bulleted List\n* First\n* Second\n* Third",
      "metadata": {}
    },
    {
      "cell_type": "markdown",
      "source": "#### Number List\n\n1. Number1\n2. Number2\n3. Number3",
      "metadata": {}
    },
    {
      "cell_type": "markdown",
      "source": "#### Hyperlink\n<a href = \"https://www.ibm.com/in-en\" target=\"IBM\">IBM</a>",
      "metadata": {}
    },
    {
      "cell_type": "code",
      "source": "",
      "metadata": {},
      "execution_count": null,
      "outputs": []
    }
  ]
}